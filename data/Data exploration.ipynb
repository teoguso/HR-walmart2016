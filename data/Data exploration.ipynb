{
 "cells": [
  {
   "cell_type": "code",
   "execution_count": 3,
   "metadata": {
    "collapsed": false
   },
   "outputs": [],
   "source": [
    "import numpy as np\n",
    "import matplotlib.pyplot as plt\n",
    "import pandas as pd\n",
    "import seaborn as sbn\n",
    "%matplotlib inline"
   ]
  },
  {
   "cell_type": "code",
   "execution_count": 4,
   "metadata": {
    "collapsed": false
   },
   "outputs": [],
   "source": [
    "df = pd.read_table(\"train.tsv\")"
   ]
  },
  {
   "cell_type": "code",
   "execution_count": 5,
   "metadata": {
    "collapsed": false
   },
   "outputs": [
    {
     "data": {
      "text/html": [
       "<div>\n",
       "<table border=\"1\" class=\"dataframe\">\n",
       "  <thead>\n",
       "    <tr style=\"text-align: right;\">\n",
       "      <th></th>\n",
       "      <th>item_id</th>\n",
       "      <th>Seller</th>\n",
       "      <th>Actors</th>\n",
       "      <th>Actual Color</th>\n",
       "      <th>Artist ID</th>\n",
       "      <th>Aspect Ratio</th>\n",
       "      <th>Color</th>\n",
       "      <th>Genre ID</th>\n",
       "      <th>ISBN</th>\n",
       "      <th>Item Class ID</th>\n",
       "      <th>...</th>\n",
       "      <th>Product Name</th>\n",
       "      <th>Product Short Description</th>\n",
       "      <th>Publisher</th>\n",
       "      <th>Recommended Location</th>\n",
       "      <th>Recommended Room</th>\n",
       "      <th>Recommended Use</th>\n",
       "      <th>Short Description</th>\n",
       "      <th>Synopsis</th>\n",
       "      <th>actual_color</th>\n",
       "      <th>tag</th>\n",
       "    </tr>\n",
       "  </thead>\n",
       "  <tbody>\n",
       "    <tr>\n",
       "      <th>0</th>\n",
       "      <td>0</td>\n",
       "      <td>Circuit City</td>\n",
       "      <td>NaN</td>\n",
       "      <td>Multicolor</td>\n",
       "      <td>NaN</td>\n",
       "      <td>NaN</td>\n",
       "      <td>NaN</td>\n",
       "      <td>NaN</td>\n",
       "      <td>NaN</td>\n",
       "      <td>1</td>\n",
       "      <td>...</td>\n",
       "      <td>Cyberpower Metered ATS PDU 200-240V 20A 1U 10-...</td>\n",
       "      <td>NaN</td>\n",
       "      <td>NaN</td>\n",
       "      <td>NaN</td>\n",
       "      <td>NaN</td>\n",
       "      <td>NaN</td>\n",
       "      <td>The CyberPower PDU20MHVT10AT, a 10-outlet 1U r...</td>\n",
       "      <td>NaN</td>\n",
       "      <td>NaN</td>\n",
       "      <td>[4483]</td>\n",
       "    </tr>\n",
       "    <tr>\n",
       "      <th>1</th>\n",
       "      <td>1</td>\n",
       "      <td>NaN</td>\n",
       "      <td>NaN</td>\n",
       "      <td>Black</td>\n",
       "      <td>NaN</td>\n",
       "      <td>NaN</td>\n",
       "      <td>NaN</td>\n",
       "      <td>NaN</td>\n",
       "      <td>NaN</td>\n",
       "      <td>1</td>\n",
       "      <td>...</td>\n",
       "      <td>Peerless SmartMount SF650P Universal Flat Wall...</td>\n",
       "      <td>Peerless SmartMount SF650P Universal Flat Wall...</td>\n",
       "      <td>NaN</td>\n",
       "      <td>NaN</td>\n",
       "      <td>NaN</td>\n",
       "      <td>NaN</td>\n",
       "      <td>NaN</td>\n",
       "      <td>NaN</td>\n",
       "      <td>NaN</td>\n",
       "      <td>[581514]</td>\n",
       "    </tr>\n",
       "    <tr>\n",
       "      <th>2</th>\n",
       "      <td>2</td>\n",
       "      <td>NaN</td>\n",
       "      <td>NaN</td>\n",
       "      <td>NaN</td>\n",
       "      <td>NaN</td>\n",
       "      <td>NaN</td>\n",
       "      <td>NaN</td>\n",
       "      <td>NaN</td>\n",
       "      <td>NaN</td>\n",
       "      <td>1</td>\n",
       "      <td>...</td>\n",
       "      <td>DAYTON 31EH66 Control Transformer Fused,4.02H ...</td>\n",
       "      <td>NaN</td>\n",
       "      <td>NaN</td>\n",
       "      <td>NaN</td>\n",
       "      <td>NaN</td>\n",
       "      <td>NaN</td>\n",
       "      <td>short description is not available</td>\n",
       "      <td>NaN</td>\n",
       "      <td>NaN</td>\n",
       "      <td>[4483]</td>\n",
       "    </tr>\n",
       "    <tr>\n",
       "      <th>3</th>\n",
       "      <td>3</td>\n",
       "      <td>Pcrush</td>\n",
       "      <td>NaN</td>\n",
       "      <td>Multicolor</td>\n",
       "      <td>NaN</td>\n",
       "      <td>NaN</td>\n",
       "      <td>NaN</td>\n",
       "      <td>NaN</td>\n",
       "      <td>NaN</td>\n",
       "      <td>19</td>\n",
       "      <td>...</td>\n",
       "      <td>STEREN-CUSTOM INSTALL 255-047 STEREN MINI TO R...</td>\n",
       "      <td>NaN</td>\n",
       "      <td>NaN</td>\n",
       "      <td>NaN</td>\n",
       "      <td>NaN</td>\n",
       "      <td>NaN</td>\n",
       "      <td>&lt;p&gt;Steren 3.5mm to RCA Y-Cable 255-047&lt;/p&gt;&lt;p&gt;1...</td>\n",
       "      <td>NaN</td>\n",
       "      <td>NaN</td>\n",
       "      <td>[4537]</td>\n",
       "    </tr>\n",
       "    <tr>\n",
       "      <th>4</th>\n",
       "      <td>4</td>\n",
       "      <td>Walmart.com</td>\n",
       "      <td>NaN</td>\n",
       "      <td>Black</td>\n",
       "      <td>NaN</td>\n",
       "      <td>NaN</td>\n",
       "      <td>NaN</td>\n",
       "      <td>NaN</td>\n",
       "      <td>NaN</td>\n",
       "      <td>19</td>\n",
       "      <td>...</td>\n",
       "      <td>LG 47LN5700 47\" 1080p 120Hz LED (3.17\" ultra-s...</td>\n",
       "      <td>NaN</td>\n",
       "      <td>NaN</td>\n",
       "      <td>NaN</td>\n",
       "      <td>NaN</td>\n",
       "      <td>NaN</td>\n",
       "      <td>The LG 42LN5700 47\" 1080p 120Hz LED HDTV is a ...</td>\n",
       "      <td>NaN</td>\n",
       "      <td>NaN</td>\n",
       "      <td>[1229817, 1229821]</td>\n",
       "    </tr>\n",
       "  </tbody>\n",
       "</table>\n",
       "<p>5 rows × 23 columns</p>\n",
       "</div>"
      ],
      "text/plain": [
       "   item_id        Seller Actors Actual Color  Artist ID Aspect Ratio Color  \\\n",
       "0        0  Circuit City    NaN   Multicolor        NaN          NaN   NaN   \n",
       "1        1           NaN    NaN        Black        NaN          NaN   NaN   \n",
       "2        2           NaN    NaN          NaN        NaN          NaN   NaN   \n",
       "3        3        Pcrush    NaN   Multicolor        NaN          NaN   NaN   \n",
       "4        4   Walmart.com    NaN        Black        NaN          NaN   NaN   \n",
       "\n",
       "   Genre ID  ISBN Item Class ID         ...          \\\n",
       "0       NaN   NaN             1         ...           \n",
       "1       NaN   NaN             1         ...           \n",
       "2       NaN   NaN             1         ...           \n",
       "3       NaN   NaN            19         ...           \n",
       "4       NaN   NaN            19         ...           \n",
       "\n",
       "                                        Product Name  \\\n",
       "0  Cyberpower Metered ATS PDU 200-240V 20A 1U 10-...   \n",
       "1  Peerless SmartMount SF650P Universal Flat Wall...   \n",
       "2  DAYTON 31EH66 Control Transformer Fused,4.02H ...   \n",
       "3  STEREN-CUSTOM INSTALL 255-047 STEREN MINI TO R...   \n",
       "4  LG 47LN5700 47\" 1080p 120Hz LED (3.17\" ultra-s...   \n",
       "\n",
       "                           Product Short Description Publisher  \\\n",
       "0                                                NaN       NaN   \n",
       "1  Peerless SmartMount SF650P Universal Flat Wall...       NaN   \n",
       "2                                                NaN       NaN   \n",
       "3                                                NaN       NaN   \n",
       "4                                                NaN       NaN   \n",
       "\n",
       "  Recommended Location Recommended Room Recommended Use  \\\n",
       "0                  NaN              NaN             NaN   \n",
       "1                  NaN              NaN             NaN   \n",
       "2                  NaN              NaN             NaN   \n",
       "3                  NaN              NaN             NaN   \n",
       "4                  NaN              NaN             NaN   \n",
       "\n",
       "                                   Short Description Synopsis actual_color  \\\n",
       "0  The CyberPower PDU20MHVT10AT, a 10-outlet 1U r...      NaN          NaN   \n",
       "1                                                NaN      NaN          NaN   \n",
       "2                 short description is not available      NaN          NaN   \n",
       "3  <p>Steren 3.5mm to RCA Y-Cable 255-047</p><p>1...      NaN          NaN   \n",
       "4  The LG 42LN5700 47\" 1080p 120Hz LED HDTV is a ...      NaN          NaN   \n",
       "\n",
       "                  tag  \n",
       "0              [4483]  \n",
       "1            [581514]  \n",
       "2              [4483]  \n",
       "3              [4537]  \n",
       "4  [1229817, 1229821]  \n",
       "\n",
       "[5 rows x 23 columns]"
      ]
     },
     "execution_count": 5,
     "metadata": {},
     "output_type": "execute_result"
    }
   ],
   "source": [
    "df.head()"
   ]
  },
  {
   "cell_type": "code",
   "execution_count": 6,
   "metadata": {
    "collapsed": false
   },
   "outputs": [
    {
     "name": "stdout",
     "output_type": "stream",
     "text": [
      "<class 'pandas.core.frame.DataFrame'>\n",
      "RangeIndex: 10593 entries, 0 to 10592\n",
      "Data columns (total 23 columns):\n",
      "item_id                      10593 non-null int64\n",
      "Seller                       5024 non-null object\n",
      "Actors                       243 non-null object\n",
      "Actual Color                 4799 non-null object\n",
      "Artist ID                    88 non-null float64\n",
      "Aspect Ratio                 1039 non-null object\n",
      "Color                        17 non-null object\n",
      "Genre ID                     87 non-null float64\n",
      "ISBN                         258 non-null float64\n",
      "Item Class ID                10578 non-null object\n",
      "Literary Genre               134 non-null object\n",
      "MPAA Rating                  871 non-null object\n",
      "Product Long Description     10584 non-null object\n",
      "Product Name                 10584 non-null object\n",
      "Product Short Description    4195 non-null object\n",
      "Publisher                    189 non-null object\n",
      "Recommended Location         112 non-null object\n",
      "Recommended Room             5 non-null object\n",
      "Recommended Use              386 non-null object\n",
      "Short Description            6389 non-null object\n",
      "Synopsis                     261 non-null object\n",
      "actual_color                 35 non-null object\n",
      "tag                          10593 non-null object\n",
      "dtypes: float64(3), int64(1), object(19)\n",
      "memory usage: 1.9+ MB\n"
     ]
    }
   ],
   "source": [
    "df.info()"
   ]
  },
  {
   "cell_type": "code",
   "execution_count": 7,
   "metadata": {
    "collapsed": false
   },
   "outputs": [
    {
     "data": {
      "text/plain": [
       "2801            [4537]\n",
       "3926            [4483]\n",
       "4019          [106546]\n",
       "4070            [4483]\n",
       "6129            [4483]\n",
       "6392    [4537, 581514]\n",
       "7361          [106546]\n",
       "7766            [4483]\n",
       "9474            [4483]\n",
       "Name: tag, dtype: object"
      ]
     },
     "execution_count": 7,
     "metadata": {},
     "output_type": "execute_result"
    }
   ],
   "source": [
    "df[df['Product Name'].isnull()]['tag']"
   ]
  },
  {
   "cell_type": "markdown",
   "metadata": {},
   "source": [
    "### Remove completely empty records\n",
    "Apparently some records only contain the shelf, without giving out any other info. \n",
    "It's safe to say that they are completely useless.\n",
    "\n",
    "EDIT: Maybe we'll do it later."
   ]
  },
  {
   "cell_type": "code",
   "execution_count": 8,
   "metadata": {
    "collapsed": true
   },
   "outputs": [],
   "source": [
    "# df = df[-df['Product Name'].isnull()]"
   ]
  },
  {
   "cell_type": "markdown",
   "metadata": {},
   "source": [
    "### Exploring tags (aka labels)"
   ]
  },
  {
   "cell_type": "code",
   "execution_count": 9,
   "metadata": {
    "collapsed": false
   },
   "outputs": [],
   "source": [
    "# Now we extract and straighten the tags (shelves) \n",
    "# to see how they are distributed.\n",
    "# This will create a simple list of occurrences, \n",
    "# Without any info on the items.\n",
    "def straighten_tags(df_tags):\n",
    "    mylist = []\n",
    "    for tags in df_tags:\n",
    "            mylist += tags.strip(']').strip('[').split(',')\n",
    "    return mylist"
   ]
  },
  {
   "cell_type": "code",
   "execution_count": 10,
   "metadata": {
    "collapsed": false
   },
   "outputs": [],
   "source": [
    "straight_list = straighten_tags(df['tag'])"
   ]
  },
  {
   "cell_type": "code",
   "execution_count": 11,
   "metadata": {
    "collapsed": false
   },
   "outputs": [],
   "source": [
    "straight_list = [int(s) for s in straight_list]\n",
    "straight_list = np.array(straight_list)"
   ]
  },
  {
   "cell_type": "code",
   "execution_count": 12,
   "metadata": {
    "collapsed": false
   },
   "outputs": [],
   "source": [
    "s_tags = pd.Series(straight_list)"
   ]
  },
  {
   "cell_type": "code",
   "execution_count": 13,
   "metadata": {
    "collapsed": false
   },
   "outputs": [
    {
     "data": {
      "text/plain": [
       "count    1.261700e+04\n",
       "mean     4.214179e+05\n",
       "std      6.498953e+05\n",
       "min      4.457000e+03\n",
       "25%      4.537000e+03\n",
       "50%      1.065460e+05\n",
       "75%      5.815140e+05\n",
       "max      3.304195e+06\n",
       "dtype: float64"
      ]
     },
     "execution_count": 13,
     "metadata": {},
     "output_type": "execute_result"
    }
   ],
   "source": [
    "s_tags.describe()"
   ]
  },
  {
   "cell_type": "code",
   "execution_count": 14,
   "metadata": {
    "collapsed": false
   },
   "outputs": [
    {
     "data": {
      "text/plain": [
       "106546.0"
      ]
     },
     "execution_count": 14,
     "metadata": {},
     "output_type": "execute_result"
    }
   ],
   "source": [
    "s_tags.median()"
   ]
  },
  {
   "cell_type": "code",
   "execution_count": 15,
   "metadata": {
    "collapsed": false
   },
   "outputs": [
    {
     "data": {
      "text/plain": [
       "0    4537\n",
       "dtype: int64"
      ]
     },
     "execution_count": 15,
     "metadata": {},
     "output_type": "execute_result"
    }
   ],
   "source": [
    "s_tags.mode()"
   ]
  },
  {
   "cell_type": "code",
   "execution_count": 16,
   "metadata": {
    "collapsed": false
   },
   "outputs": [
    {
     "data": {
      "text/plain": [
       "<matplotlib.axes._subplots.AxesSubplot at 0x7f0f6bad8400>"
      ]
     },
     "execution_count": 16,
     "metadata": {},
     "output_type": "execute_result"
    },
    {
     "data": {
      "image/png": "[encoded data removed]",
      "text/plain": [
       "<matplotlib.figure.Figure at 0x7f0f357f8518>"
      ]
     },
     "metadata": {},
     "output_type": "display_data"
    }
   ],
   "source": [
    "s_tags.hist(bins=1000)"
   ]
  },
  {
   "cell_type": "code",
   "execution_count": 17,
   "metadata": {
    "collapsed": false
   },
   "outputs": [
    {
     "name": "stdout",
     "output_type": "stream",
     "text": [
      "32 [   4483  581514    4537 1229817 1229821 3304195 1180168  447913  522484\n",
      " 1070524   95987  127175  529295  106546 1229825 1229820    5065    4538\n",
      "  650659    4536 1225174 1071165 1229819   62056 1084835 1229818  648819\n",
      "    4457 1085065  133270  645319 1229823]\n"
     ]
    }
   ],
   "source": [
    "print(len(s_tags.unique()), s_tags.unique())"
   ]
  },
  {
   "cell_type": "code",
   "execution_count": 18,
   "metadata": {
    "collapsed": false
   },
   "outputs": [
    {
     "data": {
      "text/plain": [
       "4537       2803\n",
       "4483       2115\n",
       "106546      827\n",
       "581514      772\n",
       "1229821     763\n",
       "95987       619\n",
       "447913      608\n",
       "522484      603\n",
       "529295      520\n",
       "127175      510\n",
       "1229817     389\n",
       "3304195     345\n",
       "1180168     271\n",
       "4538        250\n",
       "4536        229\n",
       "650659      195\n",
       "1229820     175\n",
       "1070524     169\n",
       "5065         80\n",
       "1229819      60\n",
       "1225174      53\n",
       "1071165      52\n",
       "1085065      51\n",
       "1229825      50\n",
       "62056        29\n",
       "4457         22\n",
       "1084835      21\n",
       "1229818      16\n",
       "648819       11\n",
       "1229823       3\n",
       "645319        3\n",
       "133270        3\n",
       "dtype: int64"
      ]
     },
     "execution_count": 18,
     "metadata": {},
     "output_type": "execute_result"
    }
   ],
   "source": [
    "s_tags.value_counts()"
   ]
  },
  {
   "cell_type": "markdown",
   "metadata": {},
   "source": [
    "## Multi-label classification"
   ]
  },
  {
   "cell_type": "markdown",
   "metadata": {},
   "source": [
    "This is the correct name of the task we are trying to perform. \n",
    "The best way to handle this is to have a binary array of length\n",
    "'\\# of labels', where the 1s mark the labels associated with a record. \n",
    "\n",
    "We have to handle 32 labels in total, so we will have a 32-element binary array."
   ]
  },
  {
   "cell_type": "code",
   "execution_count": 19,
   "metadata": {
    "collapsed": false
   },
   "outputs": [],
   "source": [
    "import json"
   ]
  },
  {
   "cell_type": "code",
   "execution_count": 20,
   "metadata": {
    "collapsed": false
   },
   "outputs": [],
   "source": [
    "df['label'] = df.tag.apply(lambda x: json.loads(x))"
   ]
  },
  {
   "cell_type": "code",
   "execution_count": 21,
   "metadata": {
    "collapsed": false
   },
   "outputs": [],
   "source": [
    "from sklearn.preprocessing import MultiLabelBinarizer\n",
    "blabels = MultiLabelBinarizer().fit_transform(df['label'])"
   ]
  },
  {
   "cell_type": "code",
   "execution_count": 22,
   "metadata": {
    "collapsed": false
   },
   "outputs": [
    {
     "data": {
      "text/plain": [
       "(10593, 32)"
      ]
     },
     "execution_count": 22,
     "metadata": {},
     "output_type": "execute_result"
    }
   ],
   "source": [
    "blabels.shape"
   ]
  },
  {
   "cell_type": "code",
   "execution_count": 131,
   "metadata": {
    "collapsed": false
   },
   "outputs": [],
   "source": [
    "df['blabel'] = pd.Series(list(blabels))"
   ]
  },
  {
   "cell_type": "markdown",
   "metadata": {},
   "source": [
    "### HTML parsing\n",
    "To extract some information from the data we have to use the description in HTML. \n",
    "We have to remove all the HTML tags."
   ]
  },
  {
   "cell_type": "code",
   "execution_count": 24,
   "metadata": {
    "collapsed": false
   },
   "outputs": [],
   "source": [
    "from bs4 import BeautifulSoup"
   ]
  },
  {
   "cell_type": "code",
   "execution_count": 25,
   "metadata": {
    "collapsed": false
   },
   "outputs": [],
   "source": [
    "# clean_html(df['Product Long Description'][0])\n",
    "soup = BeautifulSoup(df['Product Long Description'][0], \"lxml\")"
   ]
  },
  {
   "cell_type": "code",
   "execution_count": 26,
   "metadata": {
    "collapsed": false
   },
   "outputs": [
    {
     "name": "stdout",
     "output_type": "stream",
     "text": [
      "Interfaces/Ports\n",
      "Network (RJ-45):   Yes\n",
      "General Information\n",
      "Product Type:   PDU\n",
      "Manufacturer Part Number:   PDU20MHVT10AT\n",
      "Manufacturer Website Address:   http://www.cyberpowersystems.com\n",
      "Manufacturer:   CyberPower Systems, Inc\n",
      "Product Model:   PDU20MHVT10AT\n",
      "Product Name:   PDU20MHVT10AT Metered ATS PDU 200-240V 20A 1U 10-Outlets (2) L6-20P\n",
      "Product Series:   Metered\n",
      "Brand Name:   CyberPower\n",
      "Management\n",
      "Management:    \n",
      "HTTP\n",
      " \n",
      "TCP/IP\n",
      " \n",
      "UDP\n",
      " \n",
      "DHCP\n",
      " \n",
      "SNMP\n",
      " \n",
      "SNMPv3\n",
      " \n",
      "IPv4\n",
      " \n",
      "IPv6\n",
      " \n",
      "NTP\n",
      " \n",
      "SMTP\n",
      " \n",
      "Miscellaneous\n",
      "Package Contents\n",
      " \n",
      "PDU20MHVT10AT Metered ATS PDU 200-240V 20A 1U 10-Outlets (2) L6-20\n",
      " \n",
      "Mounting Brackets (1 Set)\n",
      " \n",
      "Cord Retention Tray\n",
      " \n",
      "Cord Organizers\n",
      " \n",
      "User Manual\n",
      " \n",
      "Compatibility\n",
      " \n",
      "Data Centers\n",
      " \n",
      "Servers\n",
      " \n",
      "Network Devices\n",
      " \n",
      "Telecom Equipment\n",
      " \n",
      "CyberPower UPS's:\n",
      " \n",
      "PR5000LCDRTXL5U\n",
      " \n",
      "PR6000LCDRTXL5U\n",
      " \n",
      "OL6000RT3U\n",
      " \n",
      "OL6000RT3UTF\n",
      " \n",
      "OL8000RT3UTF\n",
      " \n",
      "OL10000RT3UTF\n",
      " \n",
      "Certifications & Standards\n",
      " \n",
      "UL60950-1 Certified by ETL (USA)\n",
      " \n",
      "CSA C22.2(Canada)\n",
      " \n",
      "FCC Class A\n",
      " \n",
      "Green Compliant\n",
      " Yes\n",
      "Green Compliance Certificate/Authority\n",
      " RoHS\n",
      "Physical Characteristics\n",
      "Weight (Approximate):   11.46 lb\n",
      "Form Factor:   Horizontal Rackmount\n",
      "Rack Height:   1U\n",
      "Cord Length:   10 ft\n",
      "Height:   1.8\"\n",
      "Width:   17.1\"\n",
      "Depth:   9.3\"\n",
      "Number of Cord/Cable:   2\n",
      "Power Description\n",
      "Input Voltage:   230 V AC\n",
      "Output Voltage:   230 V AC\n",
      "Input Current:   20 A\n",
      "Technical Information\n",
      "Input Receptacles:   2 x NEMA L6-20P\n",
      "Output Receptacles:   8 x IEC 60320 C13\n",
      "Protection Type:   Under Voltage Protection\n",
      "Warranty\n",
      "Limited Warranty:   3 Year\n"
     ]
    }
   ],
   "source": [
    "print(soup.get_text(separator=\"\\n\"))"
   ]
  },
  {
   "cell_type": "markdown",
   "metadata": {},
   "source": [
    "### TF-IDF with scikit-learn\n",
    "See http://scikit-learn.org/stable/tutorial/text_analytics/working_with_text_data.html"
   ]
  },
  {
   "cell_type": "code",
   "execution_count": 27,
   "metadata": {
    "collapsed": true
   },
   "outputs": [],
   "source": [
    "from sklearn.feature_extraction.text import CountVectorizer"
   ]
  },
  {
   "cell_type": "code",
   "execution_count": 148,
   "metadata": {
    "collapsed": false
   },
   "outputs": [],
   "source": [
    "# we have to remove the records with only NaN in the description\n",
    "df = df[-df['Product Name'].isnull()]"
   ]
  },
  {
   "cell_type": "code",
   "execution_count": 149,
   "metadata": {
    "collapsed": false
   },
   "outputs": [],
   "source": [
    "soup = BeautifulSoup(df['Product Long Description'][0], \"lxml\")\n",
    "# print(soup.get_text(separator=\"\\n\"))"
   ]
  },
  {
   "cell_type": "code",
   "execution_count": 150,
   "metadata": {
    "collapsed": false
   },
   "outputs": [
    {
     "name": "stderr",
     "output_type": "stream",
     "text": [
      "/home/guzzo/anaconda3/envs/py3/lib/python3.5/site-packages/bs4/__init__.py:282: UserWarning: \"https://images.tradeservice.com/HFQM9GWTE1O3PHYL/ATTACHMENTS/DIR100058/THHN.pdf\" looks like a URL. Beautiful Soup is not an HTTP client. You should probably use an HTTP client like requests to get the document behind the URL, and feed that document to Beautiful Soup.\n",
      "  ' that document to Beautiful Soup.' % decoded_markup\n"
     ]
    }
   ],
   "source": [
    "soups = [BeautifulSoup(item, \"lxml\").get_text(separator=\"\\n\") for item in df['Product Long Description']]"
   ]
  },
  {
   "cell_type": "code",
   "execution_count": 151,
   "metadata": {
    "collapsed": false
   },
   "outputs": [
    {
     "data": {
      "text/plain": [
       "(10584, 39573)"
      ]
     },
     "execution_count": 151,
     "metadata": {},
     "output_type": "execute_result"
    }
   ],
   "source": [
    "count_vect = CountVectorizer()\n",
    "X_train_counts = count_vect.fit_transform(soups)\n",
    "X_train_counts.shape"
   ]
  },
  {
   "cell_type": "code",
   "execution_count": 152,
   "metadata": {
    "collapsed": false
   },
   "outputs": [
    {
     "data": {
      "text/plain": [
       "14814"
      ]
     },
     "execution_count": 152,
     "metadata": {},
     "output_type": "execute_result"
    }
   ],
   "source": [
    "# Check the absolute frequency of a word\n",
    "count_vect.vocabulary_.get(u'electric')"
   ]
  },
  {
   "cell_type": "code",
   "execution_count": 153,
   "metadata": {
    "collapsed": false
   },
   "outputs": [
    {
     "data": {
      "text/plain": [
       "(10584, 39573)"
      ]
     },
     "execution_count": 153,
     "metadata": {},
     "output_type": "execute_result"
    }
   ],
   "source": [
    "# Perform actual TF-IDF\n",
    "from sklearn.feature_extraction.text import TfidfTransformer\n",
    "tfidf_transformer = TfidfTransformer()\n",
    "X_train_tfidf = tfidf_transformer.fit_transform(X_train_counts)\n",
    "# X_train_tf = tf_transformer.transform(X_train_counts)\n",
    "X_train_tfidf.shape"
   ]
  },
  {
   "cell_type": "code",
   "execution_count": 154,
   "metadata": {
    "collapsed": false
   },
   "outputs": [
    {
     "name": "stdout",
     "output_type": "stream",
     "text": [
      "(10584, 39573)\n"
     ]
    }
   ],
   "source": [
    "print(X_train_tfidf.shape)"
   ]
  },
  {
   "cell_type": "markdown",
   "metadata": {},
   "source": [
    "#### Training a classifier\n",
    "Follow the sklearn tutorial using Naive Bayes"
   ]
  },
  {
   "cell_type": "code",
   "execution_count": 155,
   "metadata": {
    "collapsed": false
   },
   "outputs": [],
   "source": [
    "# from sklearn.naive_bayes import MultinomialNB\n",
    "# clf = MultinomialNB().fit(X_train_tfidf, df.blabel)"
   ]
  },
  {
   "cell_type": "code",
   "execution_count": 156,
   "metadata": {
    "collapsed": false
   },
   "outputs": [],
   "source": [
    "# testing\n",
    "from sklearn.decomposition import PCA\n",
    "X = PCA(n_components=2).fit_transform(X_train_tfidf.toarray())"
   ]
  },
  {
   "cell_type": "code",
   "execution_count": 157,
   "metadata": {
    "collapsed": false
   },
   "outputs": [
    {
     "data": {
      "text/plain": [
       "(10584, 2)"
      ]
     },
     "execution_count": 157,
     "metadata": {},
     "output_type": "execute_result"
    }
   ],
   "source": [
    "X.shape"
   ]
  },
  {
   "cell_type": "code",
   "execution_count": 158,
   "metadata": {
    "collapsed": false
   },
   "outputs": [
    {
     "data": {
      "text/plain": [
       "<matplotlib.collections.PathCollection at 0x7f0f305c6390>"
      ]
     },
     "execution_count": 158,
     "metadata": {},
     "output_type": "execute_result"
    },
    {
     "data": {
      "image/png": "[encoded data removed]",
      "text/plain": [
       "<matplotlib.figure.Figure at 0x7f0f26e8bba8>"
      ]
     },
     "metadata": {},
     "output_type": "display_data"
    }
   ],
   "source": [
    "plt.scatter(X[:,0],X[:,1])"
   ]
  },
  {
   "cell_type": "code",
   "execution_count": 159,
   "metadata": {
    "collapsed": true
   },
   "outputs": [],
   "source": [
    "# from sklearn.naive_bayes import MultinomialNB\n",
    "# clf = MultinomialNB()"
   ]
  },
  {
   "cell_type": "code",
   "execution_count": 176,
   "metadata": {
    "collapsed": false
   },
   "outputs": [
    {
     "name": "stdout",
     "output_type": "stream",
     "text": [
      "(10584, 39573) (10584, 32)\n"
     ]
    }
   ],
   "source": [
    "from sklearn.ensemble import RandomForestClassifier\n",
    "# clf = RandomForestClassifier()\n",
    "from sklearn.multiclass import OneVsRestClassifier\n",
    "clf = OneVsRestClassifier(RandomForestClassifier(), n_jobs=-1)\n",
    "y = np.array(df['blabel'].tolist())\n",
    "print(X_train_tfidf.shape,\\\n",
    "y.shape) #, dtype=\"|S6\")\n",
    "X_train, X_test = X_train_tfidf[:8000], X_train_tfidf[8000:]\n",
    "y_train, y_test = y[:8000], y[8000:]"
   ]
  },
  {
   "cell_type": "code",
   "execution_count": 177,
   "metadata": {
    "collapsed": false
   },
   "outputs": [
    {
     "data": {
      "text/plain": [
       "OneVsRestClassifier(estimator=RandomForestClassifier(bootstrap=True, class_weight=None, criterion='gini',\n",
       "            max_depth=None, max_features='auto', max_leaf_nodes=None,\n",
       "            min_impurity_split=1e-07, min_samples_leaf=1,\n",
       "            min_samples_split=2, min_weight_fraction_leaf=0.0,\n",
       "            n_estimators=10, n_jobs=1, oob_score=False, random_state=None,\n",
       "            verbose=0, warm_start=False),\n",
       "          n_jobs=-1)"
      ]
     },
     "execution_count": 177,
     "metadata": {},
     "output_type": "execute_result"
    }
   ],
   "source": [
    "clf.fit(X_train, y_train)"
   ]
  },
  {
   "cell_type": "code",
   "execution_count": 191,
   "metadata": {
    "collapsed": false
   },
   "outputs": [],
   "source": [
    "y_pred = clf.predict(X_test)"
   ]
  },
  {
   "cell_type": "code",
   "execution_count": 216,
   "metadata": {
    "collapsed": false
   },
   "outputs": [],
   "source": [
    "def f1_score(labels, predictions):\n",
    "    fp = 0\n",
    "    fn = 0\n",
    "    tp = 0\n",
    "    tn = 0\n",
    "    for i in range(len(labels)):\n",
    "        if (predictions[i] == labels[i]).all():\n",
    "            tp += len(predictions[i][predictions[i] == 1])\n",
    "            tn += len(predictions[i][predictions[i] == 0])\n",
    "        else:\n",
    "            for j in labels[i, predictions[i] != labels[i]]:\n",
    "                if y_pred[i,j] == 1:\n",
    "                    fp += 1\n",
    "                else:\n",
    "                    fn += 1\n",
    "    accuracy = (tp + tn)/len(labels)\n",
    "    precision = tp/(tp + fp)\n",
    "    recall = tp/(tp + fn)\n",
    "    f1 = 2*precision * recall / (precision + recall)\n",
    "    return accuracy, precision, recall, f1"
   ]
  },
  {
   "cell_type": "code",
   "execution_count": 218,
   "metadata": {
    "collapsed": false
   },
   "outputs": [
    {
     "data": {
      "text/plain": [
       "(14.823529411764707, 0.984375, 0.41028980788016933, 0.5791772006435303)"
      ]
     },
     "execution_count": 218,
     "metadata": {},
     "output_type": "execute_result"
    }
   ],
   "source": [
    "f1_score(y_test, y_pred)\n",
    "\n",
    "# len(y_pred[0][y_pred[0] == 0])"
   ]
  },
  {
   "cell_type": "markdown",
   "metadata": {},
   "source": [
    "### Quick calculation without any tuning"
   ]
  },
  {
   "cell_type": "code",
   "execution_count": 219,
   "metadata": {
    "collapsed": false
   },
   "outputs": [
    {
     "data": {
      "text/plain": [
       "OneVsRestClassifier(estimator=RandomForestClassifier(bootstrap=True, class_weight=None, criterion='gini',\n",
       "            max_depth=None, max_features='auto', max_leaf_nodes=None,\n",
       "            min_impurity_split=1e-07, min_samples_leaf=1,\n",
       "            min_samples_split=2, min_weight_fraction_leaf=0.0,\n",
       "            n_estimators=10, n_jobs=1, oob_score=False, random_state=None,\n",
       "            verbose=0, warm_start=False),\n",
       "          n_jobs=-1)"
      ]
     },
     "execution_count": 219,
     "metadata": {},
     "output_type": "execute_result"
    }
   ],
   "source": [
    "clf.fit(X_train_tfidf, y)"
   ]
  },
  {
   "cell_type": "code",
   "execution_count": null,
   "metadata": {
    "collapsed": true
   },
   "outputs": [],
   "source": [
    "y_"
   ]
  }
 ],
 "metadata": {
  "anaconda-cloud": {},
  "kernelspec": {
   "display_name": "Python 3",
   "language": "python",
   "name": "python3"
  },
  "language_info": {
   "codemirror_mode": {
    "name": "ipython",
    "version": 3
   },
   "file_extension": ".py",
   "mimetype": "text/x-python",
   "name": "python",
   "nbconvert_exporter": "python",
   "pygments_lexer": "ipython3",
   "version": "3.5.2"
  }
 },
 "nbformat": 4,
 "nbformat_minor": 0
}
